{
  "nbformat": 4,
  "nbformat_minor": 0,
  "metadata": {
    "colab": {
      "name": "Copy of Untitled1.ipynb",
      "version": "0.3.2",
      "provenance": [],
      "collapsed_sections": []
    },
    "kernelspec": {
      "name": "python3",
      "display_name": "Python 3"
    }
  },
  "cells": [
    {
      "cell_type": "markdown",
      "metadata": {
        "id": "view-in-github",
        "colab_type": "text"
      },
      "source": [
        "[View in Colaboratory](https://colab.research.google.com/github/vernongayle/aqmen_google_colaboratory/blob/master/notebook_1.ipynb)"
      ]
    },
    {
      "metadata": {
        "id": "JLTe_ItRz9tR",
        "colab_type": "text"
      },
      "cell_type": "markdown",
      "source": [
        "# AQMEN \n",
        "\n",
        "## Notebook 1\n",
        "\n",
        "### Professor Vernon Gayle University of Edinburgh"
      ]
    },
    {
      "metadata": {
        "id": "B1nubzHQxWzX",
        "colab_type": "code",
        "colab": {
          "base_uri": "https://localhost:8080/",
          "height": 17
        },
        "outputId": "633991c5-c58f-4da2-c8bb-2abe049162c2"
      },
      "cell_type": "code",
      "source": [
        "# getting set up\n",
        "import sys"
      ],
      "execution_count": 4,
      "outputs": []
    },
    {
      "metadata": {
        "id": "dNmNfUIt0P6i",
        "colab_type": "code",
        "colab": {
          "base_uri": "https://localhost:8080/",
          "height": 34
        },
        "outputId": "dd5f057e-49fc-4dc0-b280-ca5e82da2d82"
      },
      "cell_type": "code",
      "source": [
        "print('Hello, Colaboratory from Python {}!'.format(sys.version_info[0]))"
      ],
      "execution_count": 5,
      "outputs": [
        {
          "output_type": "stream",
          "text": [
            "Hello, Colaboratory from Python 3!\n"
          ],
          "name": "stdout"
        }
      ]
    }
  ]
}