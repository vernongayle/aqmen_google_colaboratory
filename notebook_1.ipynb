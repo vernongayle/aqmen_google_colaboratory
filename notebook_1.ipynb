{
  "nbformat": 4,
  "nbformat_minor": 0,
  "metadata": {
    "colab": {
      "name": "Copy of Untitled1.ipynb",
      "version": "0.3.2",
      "provenance": [],
      "collapsed_sections": []
    },
    "kernelspec": {
      "name": "python3",
      "display_name": "Python 3"
    }
  },
  "cells": [
    {
      "cell_type": "markdown",
      "metadata": {
        "id": "view-in-github",
        "colab_type": "text"
      },
      "source": [
        "[View in Colaboratory](https://colab.research.google.com/github/vernongayle/aqmen_google_colaboratory/blob/master/notebook_1.ipynb)"
      ]
    },
    {
      "metadata": {
        "id": "JLTe_ItRz9tR",
        "colab_type": "text"
      },
      "cell_type": "markdown",
      "source": [
        "# AQMEN \n",
        "\n",
        "## Notebook 1\n",
        "\n",
        "### Professor Vernon Gayle University of Edinburgh"
      ]
    },
    {
      "metadata": {
        "id": "B1nubzHQxWzX",
        "colab_type": "code",
        "colab": {}
      },
      "cell_type": "code",
      "source": [
        ""
      ],
      "execution_count": 0,
      "outputs": []
    },
    {
      "metadata": {
        "id": "dNmNfUIt0P6i",
        "colab_type": "code",
        "colab": {}
      },
      "cell_type": "code",
      "source": [
        ""
      ],
      "execution_count": 0,
      "outputs": []
    }
  ]
}